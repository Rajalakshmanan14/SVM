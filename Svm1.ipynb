{
  "nbformat": 4,
  "nbformat_minor": 0,
  "metadata": {
    "colab": {
      "name": "Svm1.ipynb",
      "provenance": [],
      "collapsed_sections": []
    },
    "kernelspec": {
      "name": "python3",
      "display_name": "Python 3"
    }
  },
  "cells": [
    {
      "cell_type": "markdown",
      "metadata": {
        "id": "4wxyyHJroAx_"
      },
      "source": [
        "**Svm From Scratch**\n"
      ]
    },
    {
      "cell_type": "markdown",
      "metadata": {
        "id": "wH8Kl_IfoSW3"
      },
      "source": [
        "1) Import the libraries\n"
      ]
    },
    {
      "cell_type": "code",
      "metadata": {
        "colab": {
          "base_uri": "https://localhost:8080/"
        },
        "id": "lPtvsmxin-sK",
        "outputId": "d5671940-f782-4e56-e4a0-8dad30720a5a"
      },
      "source": [
        "import numpy as np\n",
        "from sklearn.datasets import load_iris\n",
        "data = load_iris()\n",
        "data.target_names"
      ],
      "execution_count": 1,
      "outputs": [
        {
          "output_type": "execute_result",
          "data": {
            "text/plain": [
              "array(['setosa', 'versicolor', 'virginica'], dtype='<U10')"
            ]
          },
          "metadata": {
            "tags": []
          },
          "execution_count": 1
        }
      ]
    },
    {
      "cell_type": "markdown",
      "metadata": {
        "id": "tRDUP6K_omUn"
      },
      "source": [
        "2) **Data Spliting** weare taking Last two Columns of X from iris Dataset for y classifying virginica from Others\n"
      ]
    },
    {
      "cell_type": "code",
      "metadata": {
        "id": "vJ0q8iMMoiqE"
      },
      "source": [
        "X = data['data'][:,2:]\n",
        "y = (data[\"target\"] == 2).astype(np.float64).reshape(-1,1)"
      ],
      "execution_count": 3,
      "outputs": []
    },
    {
      "cell_type": "markdown",
      "metadata": {
        "id": "FACur7nso92-"
      },
      "source": [
        "3) **Algorithm**\n",
        "  1.L = |w|^2 /2 - sum(c[(w.X+b)* y -1])\n",
        "  2.differentiate L with respect to w => w - sum(C X y)\n",
        "  3.differentiate L with respect to b => - sum(C * y)\n",
        "  4.for both cases the (w.X+b)* y < 1 must be true because we should classify only the mi-sclassified data points."
      ]
    },
    {
      "cell_type": "code",
      "metadata": {
        "colab": {
          "base_uri": "https://localhost:8080/"
        },
        "id": "l10H18Dqo9Ap",
        "outputId": "828e6bff-6293-4043-bed0-29a7998efc53"
      },
      "source": [
        "class RETSVM:\n",
        "  def __init__(self, epoches=60000, C=2, lr = 10 ,random_state = 2):\n",
        "    self.epoches = epoches\n",
        "    self.C = C\n",
        "    self.lr = lr\n",
        "    self.random_state = random_state\n",
        "\n",
        "  def fit(self,X,y):    \n",
        "    self.X = X    \n",
        "    self.y = y\n",
        "\n",
        "  def lrtrimmer(self,count):\n",
        "    return self.lr / (count + 1000)\n",
        "\n",
        "  def train(self): \n",
        "    if self.random_state:\n",
        "      np.random.seed(self.random_state)\n",
        "    w = np.array([[0],[0]])\n",
        "    b = 0\n",
        "    \n",
        "    y = self.y*2 - 1  # changing -1 for 0's and 1 for 1's \n",
        "    X =  self.X\n",
        "\n",
        "    for ep in range(self.epoches):        \n",
        "      to_change_points = (np.dot(y*X , w) + y * b < 1).ravel() # splitting the indexes of the points  which are misclassified\n",
        "      X_toChange = X[to_change_points] # applying those indexes to the X and Y values for filtering\n",
        "      y_toChange = y[to_change_points]\n",
        "\n",
        "\n",
        "      w_derivative = w - self.C*np.sum(X_toChange*y_toChange,axis=0).reshape(-1,1) # calculating derivatives for respect to w,b\n",
        "      b_derivative = -self.C*np.sum(y_toChange)\n",
        "        \n",
        "      w = w - self.lrtrimmer(ep)*w_derivative # learning rate is minimized for every itreations \n",
        "      b = b - self.lrtrimmer(ep)*b_derivative\n",
        "\n",
        "    self.coefficients = w\n",
        "    self.intercept = b\n",
        "    return self\n",
        "\n",
        "  def predict(self,X):\n",
        "    return (X.dot(self.coefficients) + self.intercept > 0).astype(np.float64)\n",
        "     \n",
        "my_svm_clf = RETSVM(epoches = 100000 ,C=1,lr=10,random_state=2)\n",
        "my_svm_clf.fit(X,y)\n",
        "my_svm_clf.train()\n",
        "\n",
        "\n",
        "print(my_svm_clf.intercept , my_svm_clf.coefficients)"
      ],
      "execution_count": 4,
      "outputs": [
        {
          "output_type": "stream",
          "text": [
            "-14.360737837504225 [[2.17092238]\n",
            " [2.25889228]]\n"
          ],
          "name": "stdout"
        }
      ]
    },
    {
      "cell_type": "markdown",
      "metadata": {
        "id": "j4r7TQp8pl2W"
      },
      "source": [
        "**4) Comparision**\n",
        "both RETSVM and SVC calculated similar results."
      ]
    },
    {
      "cell_type": "code",
      "metadata": {
        "colab": {
          "base_uri": "https://localhost:8080/"
        },
        "id": "cQfarF9Xpk10",
        "outputId": "3ed59314-f52d-4712-83b9-0627e2a86960"
      },
      "source": [
        "from sklearn.svm import SVC\n",
        "\n",
        "clf = SVC(kernel=\"linear\" ,C=1)\n",
        "clf.fit(X,y)\n",
        "\n",
        "print(clf.intercept_ , clf.coef_)"
      ],
      "execution_count": 5,
      "outputs": [
        {
          "output_type": "stream",
          "text": [
            "[-14.41486828] [[2.1829247  2.25365588]]\n"
          ],
          "name": "stdout"
        },
        {
          "output_type": "stream",
          "text": [
            "/usr/local/lib/python3.6/dist-packages/sklearn/utils/validation.py:760: DataConversionWarning: A column-vector y was passed when a 1d array was expected. Please change the shape of y to (n_samples, ), for example using ravel().\n",
            "  y = column_or_1d(y, warn=True)\n"
          ],
          "name": "stderr"
        }
      ]
    },
    {
      "cell_type": "markdown",
      "metadata": {
        "id": "lE9OUIwtqBMZ"
      },
      "source": [
        "**5)Thanks to **\n",
        "  CyberMorph members\n",
        "  "
      ]
    },
    {
      "cell_type": "code",
      "metadata": {
        "id": "e5et1WTVpjhF"
      },
      "source": [
        ""
      ],
      "execution_count": null,
      "outputs": []
    }
  ]
}